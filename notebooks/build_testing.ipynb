{
 "cells": [
  {
   "cell_type": "code",
   "execution_count": 1,
   "outputs": [],
   "source": [
    "from src.utils import *\n",
    "from src.functions import *\n",
    "from src.process_functions import *\n",
    "import os\n",
    "import numpy as np\n",
    "import pandas as pd"
   ],
   "metadata": {
    "collapsed": false,
    "ExecuteTime": {
     "end_time": "2023-09-13T08:20:44.611751500Z",
     "start_time": "2023-09-13T08:19:57.395719Z"
    }
   }
  },
  {
   "cell_type": "code",
   "execution_count": 2,
   "outputs": [
    {
     "name": "stdout",
     "output_type": "stream",
     "text": [
      "C:\\Python Working Directory\\Theta-Gamma Analysis\\notebooks\n"
     ]
    }
   ],
   "source": [
    "print(os.getcwd())\n",
    "cwd_path='C:\\Python Working Directory\\Theta-Gamma Analysis'"
   ],
   "metadata": {
    "collapsed": false,
    "ExecuteTime": {
     "end_time": "2023-09-13T08:20:44.666751Z",
     "start_time": "2023-09-13T08:20:44.582751200Z"
    }
   }
  },
  {
   "cell_type": "code",
   "execution_count": 3,
   "outputs": [
    {
     "name": "stdout",
     "output_type": "stream",
     "text": [
      "/path/to/staging/data\n"
     ]
    }
   ],
   "source": [
    "# Load the configuration settings based on the environment\n",
    "ENVIRONMENT = os.environ.get(\"ENVIRONMENT\", \"test\")\n",
    "config_path = os.path.join(cwd_path, \"configs\", f\"{ENVIRONMENT}.yaml\")\n",
    "config=load_config(config_path)\n",
    "print(config['data_dir'])"
   ],
   "metadata": {
    "collapsed": false,
    "ExecuteTime": {
     "end_time": "2023-09-13T08:20:45.199751300Z",
     "start_time": "2023-09-13T08:20:44.676751Z"
    }
   }
  },
  {
   "cell_type": "code",
   "execution_count": null,
   "outputs": [],
   "source": [
    "folder_path = r\"C:\\Users\\Abu Mohammed\\Dropbox\\CBD_dataset_Personal_Copy\\Dataset\\LFP_CBD_chronic_downsampled\"\n",
    "files_list = get_files_dict(folder_path)\n",
    "\n",
    "print(files_list)\n",
    "#\n",
    "# for file_path in files_list:\n",
    "#     print(file_path)"
   ],
   "metadata": {
    "collapsed": false
   }
  },
  {
   "cell_type": "code",
   "execution_count": null,
   "outputs": [],
   "source": [
    "single_path = r\"C:\\Users\\Abu Mohammed\\Dropbox\\CBD_dataset_Personal_Copy\\Dataset\\LFP_CBD_chronic_downsampled\\5\"\n",
    "single_list = get_files_dict(single_path)\n"
   ],
   "metadata": {
    "collapsed": false
   }
  },
  {
   "cell_type": "code",
   "execution_count": null,
   "outputs": [],
   "source": [],
   "metadata": {
    "collapsed": false
   }
  },
  {
   "cell_type": "markdown",
   "source": [
    "## Z-Score Y Max Peaks Nearest"
   ],
   "metadata": {
    "collapsed": false
   }
  },
  {
   "cell_type": "code",
   "execution_count": null,
   "outputs": [],
   "source": [
    "kwargs_dict = {'theta_range': (5, 12),\n",
    "               'sample_rate': 2500,\n",
    "               'frequencies': np.arange(20, 140, 1),\n",
    "               'angles': np.linspace(-180, 180, 19),\n",
    "               'ratio': 0.95,\n",
    "               'boxcar_window': np.array([20, 2]),\n",
    "               'norm': 'zscore_x',\n",
    "               'fpp_method': 'max_peaks',\n",
    "               'cog_method': 'nearest'}"
   ],
   "metadata": {
    "collapsed": false
   }
  },
  {
   "cell_type": "code",
   "execution_count": null,
   "outputs": [],
   "source": [
    "dict_walk(single_list, folder_path, '', '_fpp_zscore_x_max_nearest', read_hdf5_to_dict, rem_fpp_gen, dict_write,\n",
    "          **kwargs_dict)"
   ],
   "metadata": {
    "collapsed": false
   }
  },
  {
   "cell_type": "code",
   "execution_count": null,
   "outputs": [],
   "source": [
    "kwargs_dict = {'theta_range': (5, 12),\n",
    "               'sample_rate': 2500,\n",
    "               'frequencies': np.arange(20, 140, 1),\n",
    "               'angles': np.linspace(-180, 180, 19),\n",
    "               'ratio': 0.95,\n",
    "               'data_filename': r\"C:\\Users\\Abu Mohammed\\Dropbox\\CBD_dataset_Personal_Copy\\Dataset\\LFP_CBD_chronic_downsampled\\5\\rat5__zscore_x_max_nearest.csv\"}"
   ],
   "metadata": {
    "collapsed": false
   }
  },
  {
   "cell_type": "code",
   "execution_count": null,
   "outputs": [],
   "source": [
    "dict_walk(single_list, folder_path, '_fpp_zscore_x_max_nearest', '_james', read_hdf5_to_dict, cog_dataset_loader,\n",
    "          dataset_to_csv, **kwargs_dict)"
   ],
   "metadata": {
    "collapsed": false
   }
  },
  {
   "cell_type": "markdown",
   "source": [
    "## Z score Y Boundary Nearest"
   ],
   "metadata": {
    "collapsed": false
   }
  },
  {
   "cell_type": "code",
   "execution_count": null,
   "outputs": [],
   "source": [
    "kwargs_dict = {'theta_range': (5, 12),\n",
    "               'sample_rate': 2500,\n",
    "               'frequencies': np.arange(20, 140, 1),\n",
    "               'angles': np.linspace(-180, 180, 19),\n",
    "               'ratio': 0.95,\n",
    "               'boxcar_window': np.array([20, 2]),\n",
    "               'norm': 'zscore_x',\n",
    "               'fpp_method': 'boundary_peaks',\n",
    "               'cog_method': 'nearest'}"
   ],
   "metadata": {
    "collapsed": false
   }
  },
  {
   "cell_type": "code",
   "execution_count": null,
   "outputs": [],
   "source": [
    "dict_walk(single_list, folder_path, '', '_fpp_zscore_x_boundary_nearest', read_hdf5_to_dict, rem_fpp_gen, dict_write,\n",
    "          **kwargs_dict)"
   ],
   "metadata": {
    "collapsed": false
   }
  },
  {
   "cell_type": "code",
   "execution_count": null,
   "outputs": [],
   "source": [
    "kwargs_dict = {'theta_range': (5, 12),\n",
    "               'sample_rate': 2500,\n",
    "               'frequencies': np.arange(20, 140, 1),\n",
    "               'angles': np.linspace(-180, 180, 19),\n",
    "               'ratio': 0.95,\n",
    "               'data_filename': r\"C:\\Users\\Abu Mohammed\\Dropbox\\CBD_dataset_Personal_Copy\\Dataset\\LFP_CBD_chronic_downsampled\\5\\rat5_zscore_x_boundary_nearest.csv\"}"
   ],
   "metadata": {
    "collapsed": false
   }
  },
  {
   "cell_type": "code",
   "execution_count": null,
   "outputs": [],
   "source": [
    "dict_walk(single_list, folder_path, '_fpp_zscore_x_boundary_nearest', '_james', read_hdf5_to_dict, cog_dataset_loader,\n",
    "          dataset_to_csv, **kwargs_dict)"
   ],
   "metadata": {
    "collapsed": false
   }
  },
  {
   "cell_type": "markdown",
   "source": [
    "## Simple X"
   ],
   "metadata": {
    "collapsed": false
   }
  },
  {
   "cell_type": "code",
   "execution_count": null,
   "outputs": [],
   "source": [
    "kwargs_dict = {'theta_range': (5, 12),\n",
    "               'sample_rate': 2500,\n",
    "               'frequencies': np.arange(20, 140, 1),\n",
    "               'angles': np.linspace(-180, 180, 19),\n",
    "               'ratio': 0.95,\n",
    "               'boxcar_window': np.array([20, 2]),\n",
    "               'norm': 'simple_x',\n",
    "               'fpp_method': '',\n",
    "               'cog_method': 'nearest'}"
   ],
   "metadata": {
    "collapsed": false
   }
  },
  {
   "cell_type": "code",
   "execution_count": null,
   "outputs": [],
   "source": [
    "dict_walk(single_list, folder_path, '', '_fpp_simple_x_nearest', read_hdf5_to_dict, rem_fpp_gen, dict_write,\n",
    "          **kwargs_dict)"
   ],
   "metadata": {
    "collapsed": false
   }
  },
  {
   "cell_type": "code",
   "execution_count": null,
   "outputs": [],
   "source": [
    "kwargs_dict = {'theta_range': (5, 12),\n",
    "               'sample_rate': 2500,\n",
    "               'frequencies': np.arange(20, 140, 1),\n",
    "               'angles': np.linspace(-180, 180, 19),\n",
    "               'ratio': 0.95,\n",
    "               'data_filename': r\"C:\\Users\\Abu Mohammed\\Dropbox\\CBD_dataset_Personal_Copy\\Dataset\\LFP_CBD_chronic_downsampled\\5\\rat5_simple_x_nearest.csv\"}"
   ],
   "metadata": {
    "collapsed": false
   }
  },
  {
   "cell_type": "code",
   "execution_count": null,
   "outputs": [],
   "source": [
    "dict_walk(single_list, folder_path, '_fpp_simple_x_nearest', '_james', read_hdf5_to_dict, cog_dataset_loader,\n",
    "          dataset_to_csv, **kwargs_dict)"
   ],
   "metadata": {
    "collapsed": false
   }
  },
  {
   "cell_type": "code",
   "execution_count": null,
   "outputs": [],
   "source": [
    "kwargs_dict = {'theta_range': (5, 12),\n",
    "               'sample_rate': 2500,\n",
    "               'frequencies': np.arange(20, 140, 1),\n",
    "               'angles': np.linspace(-180, 180, 19),\n",
    "               'ratio': 0.95,\n",
    "               'boxcar_window': np.array([20, 2]),\n",
    "               'norm': 'simple_y',\n",
    "               'fpp_method': '',\n",
    "               'cog_method': 'nearest'}"
   ],
   "metadata": {
    "collapsed": false
   }
  },
  {
   "cell_type": "code",
   "execution_count": null,
   "outputs": [],
   "source": [
    "dict_walk(single_list, folder_path, '', '_fpp_simple_y_nearest', read_hdf5_to_dict, rem_fpp_gen, dict_write,\n",
    "          **kwargs_dict)"
   ],
   "metadata": {
    "collapsed": false
   }
  },
  {
   "cell_type": "code",
   "execution_count": null,
   "outputs": [],
   "source": [
    "kwargs_dict = {'theta_range': (5, 12),\n",
    "               'sample_rate': 2500,\n",
    "               'frequencies': np.arange(20, 140, 1),\n",
    "               'angles': np.linspace(-180, 180, 19),\n",
    "               'ratio': 0.95,\n",
    "               'data_filename': r\"C:\\Users\\Abu Mohammed\\Dropbox\\CBD_dataset_Personal_Copy\\Dataset\\LFP_CBD_chronic_downsampled\\5\\rat5_simple_y_nearest.csv\"}"
   ],
   "metadata": {
    "collapsed": false
   }
  },
  {
   "cell_type": "code",
   "execution_count": null,
   "outputs": [],
   "source": [
    "dict_walk(single_list, folder_path, '_fpp_simple_y_nearest', '_james', read_hdf5_to_dict, cog_dataset_loader,\n",
    "          dataset_to_csv, **kwargs_dict)"
   ],
   "metadata": {
    "collapsed": false
   }
  },
  {
   "cell_type": "markdown",
   "source": [
    "## Reader"
   ],
   "metadata": {
    "collapsed": false
   }
  },
  {
   "cell_type": "code",
   "execution_count": null,
   "outputs": [],
   "source": [
    "cog_df=pd.read_csv(r\"C:\\Users\\Abu Mohammed\\Dropbox\\CBD_dataset_Personal_Copy\\Dataset\\LFP_CBD_chronic_downsampled\\5\\rat5_cog_values.csv\")"
   ],
   "metadata": {
    "collapsed": false
   }
  },
  {
   "cell_type": "code",
   "execution_count": null,
   "outputs": [],
   "source": [
    "print(cog_df)"
   ],
   "metadata": {
    "collapsed": false
   }
  },
  {
   "cell_type": "markdown",
   "source": [
    "## Debugging"
   ],
   "metadata": {
    "collapsed": false
   }
  },
  {
   "cell_type": "code",
   "execution_count": null,
   "outputs": [],
   "source": [
    "folder_path = r\"C:\\Users\\Abu Mohammed\\Dropbox\\CBD_dataset_Personal_Copy\\Dataset\\LFP_CBD_chronic_downsampled\"\n",
    "files_list = get_files_dict(folder_path)\n",
    "\n",
    "print(files_list)"
   ],
   "metadata": {
    "collapsed": false
   }
  },
  {
   "cell_type": "code",
   "execution_count": null,
   "outputs": [],
   "source": [
    "single_path = r\"C:\\Users\\Abu Mohammed\\Dropbox\\CBD_dataset_Personal_Copy\\Dataset\\LFP_CBD_chronic_downsampled\\5\\Rat_OS_Ephys_cbd_chronic_Rat5_411358_SD14_OR_20210729\\2021-07-29_13-26-22_posttrial2\"\n",
    "single_list = get_files_dict(single_path)"
   ],
   "metadata": {
    "collapsed": false,
    "is_executing": true
   }
  },
  {
   "cell_type": "code",
   "execution_count": null,
   "outputs": [],
   "source": [
    "kwargs_dict = {'theta_range': (5, 12),\n",
    "               'sample_rate': 2500,\n",
    "               'frequencies': np.arange(20, 140, 1),\n",
    "               'angles': np.linspace(-180, 180, 19),\n",
    "               'ratio': 0.95,\n",
    "               'boxcar_window': np.array([20, 2]),\n",
    "               'norm': 'zscore_y',\n",
    "               'fpp_method': 'max_peaks',\n",
    "               'cog_method': 'nearest'}"
   ],
   "metadata": {
    "collapsed": false,
    "is_executing": true
   }
  },
  {
   "cell_type": "code",
   "execution_count": null,
   "outputs": [],
   "source": [
    "dict_walk(single_list, folder_path, '', '_fpp_zscore_y_max_nearest', read_hdf5_to_dict, rem_fpp_gen, dict_write,\n",
    "          **kwargs_dict)"
   ],
   "metadata": {
    "collapsed": false,
    "is_executing": true
   }
  },
  {
   "cell_type": "markdown",
   "source": [
    "## Scratch "
   ],
   "metadata": {
    "collapsed": false
   }
  },
  {
   "cell_type": "code",
   "execution_count": 2,
   "outputs": [],
   "source": [
    "rem_dict=read_hdf5_to_dict(r'C:\\Users\\Abu Mohammed\\Dropbox\\CBD_dataset_Personal_Copy\\Dataset\\LFP_CBD_chronic_downsampled\\5\\Rat_OS_Ephys_cbd_chronic_Rat5_411358_SD1_OR_6_07_2021\\2021-07-06_14-07-30_posttrial3\\Rat5_SD1_OR_CBD_posttrial3_fpp_zscore_y_boundary_nearest')"
   ],
   "metadata": {
    "collapsed": false,
    "ExecuteTime": {
     "end_time": "2023-09-08T21:25:32.058366400Z",
     "start_time": "2023-09-08T21:25:30.977355300Z"
    }
   }
  },
  {
   "cell_type": "code",
   "execution_count": 3,
   "outputs": [
    {
     "name": "stdout",
     "output_type": "stream",
     "text": [
      "{'REM 1': {'CoG': array([[  50., -140.],\n",
      "       [  34.,   20.],\n",
      "       [  21., -160.],\n",
      "       [  30.,  140.],\n",
      "       [  21.,  160.],\n",
      "       [  31.,  140.],\n",
      "       [  48.,  -80.],\n",
      "       [  21., -160.],\n",
      "       [  48.,   60.],\n",
      "       [  21.,  100.],\n",
      "       [  30., -120.],\n",
      "       [  48.,   80.],\n",
      "       [  28., -140.],\n",
      "       [  22.,  160.],\n",
      "       [  23.,   60.],\n",
      "       [  34., -160.],\n",
      "       [  28.,  140.],\n",
      "       [  49., -160.],\n",
      "       [  47.,  -40.],\n",
      "       [  34.,  100.],\n",
      "       [  35., -160.],\n",
      "       [  33., -120.],\n",
      "       [  34.,    0.],\n",
      "       [  36.,  -60.],\n",
      "       [  31.,   80.],\n",
      "       [  49., -120.],\n",
      "       [  23., -160.],\n",
      "       [  47.,  -60.],\n",
      "       [  21.,  -40.],\n",
      "       [  50.,  120.],\n",
      "       [  31.,  -80.],\n",
      "       [  31.,  140.],\n",
      "       [  48.,  160.],\n",
      "       [  25.,   40.],\n",
      "       [  21.,  100.],\n",
      "       [  23., -100.],\n",
      "       [  52.,   80.],\n",
      "       [  31., -160.],\n",
      "       [  45.,  -40.],\n",
      "       [  32.,  160.],\n",
      "       [  31., -120.],\n",
      "       [  29.,  -80.],\n",
      "       [  23.,   80.],\n",
      "       [  30., -120.],\n",
      "       [  40.,  140.],\n",
      "       [  51., -140.],\n",
      "       [  21.,   20.],\n",
      "       [  27., -100.],\n",
      "       [  28., -120.],\n",
      "       [  26.,  -60.],\n",
      "       [  49., -120.],\n",
      "       [  47., -120.],\n",
      "       [  35., -160.],\n",
      "       [  48.,    0.],\n",
      "       [  21.,   40.],\n",
      "       [  21., -160.],\n",
      "       [  23., -100.],\n",
      "       [  39.,  120.],\n",
      "       [  50.,  100.],\n",
      "       [  21.,  -60.],\n",
      "       [  25.,   20.],\n",
      "       [  39.,  160.],\n",
      "       [  39.,  100.],\n",
      "       [  51.,  160.],\n",
      "       [  30., -120.],\n",
      "       [  29.,   80.],\n",
      "       [  22., -160.],\n",
      "       [  27.,   60.],\n",
      "       [  27., -120.],\n",
      "       [  28.,   20.],\n",
      "       [  34., -140.],\n",
      "       [  24., -100.],\n",
      "       [  24.,  140.],\n",
      "       [  34., -120.],\n",
      "       [  23., -140.],\n",
      "       [  21.,  140.],\n",
      "       [  31.,  -80.],\n",
      "       [  23.,  -40.],\n",
      "       [  24., -160.],\n",
      "       [  37., -140.],\n",
      "       [  48., -160.]]), 'FPP_cycles': array([[[ 2.01569029,  1.7224503 ,  1.18161627, ...,  0.04165016,\n",
      "          0.59713252,  1.29273831],\n",
      "        [ 3.47341743,  3.07385121,  2.27992859, ...,  0.97774017,\n",
      "          1.64720542,  2.5343216 ],\n",
      "        [ 3.66194579,  3.35914159,  2.61328683, ...,  2.26345596,\n",
      "          2.59495659,  3.20461737],\n",
      "        ...,\n",
      "        [-0.48433659, -0.49944681, -0.53939212, ..., -0.58675025,\n",
      "         -0.54585311, -0.51042043],\n",
      "        [-0.48258076, -0.4986826 , -0.53898165, ..., -0.59642116,\n",
      "         -0.55258264, -0.51042474],\n",
      "        [-0.48805233, -0.50303873, -0.54030165, ..., -0.61879962,\n",
      "         -0.58386642, -0.53279506]],\n",
      "\n",
      "       [[ 1.62166823,  1.82863053,  2.03644863, ...,  3.49675074,\n",
      "          4.24700522,  4.44881103],\n",
      "        [ 2.88614856,  3.05394106,  3.22486182, ...,  4.57370324,\n",
      "          5.4751804 ,  5.58872752],\n",
      "        [ 3.41895664,  3.42168627,  3.28679311, ...,  2.56806459,\n",
      "          3.20207411,  3.18407431],\n",
      "        ...,\n",
      "        [-0.54058567, -0.54243209, -0.55760696, ..., -0.60094011,\n",
      "         -0.56800121, -0.52420844],\n",
      "        [-0.5376563 , -0.54151893, -0.55874364, ..., -0.60005493,\n",
      "         -0.56777757, -0.52496467],\n",
      "        [-0.54355169, -0.55507934, -0.5855041 , ..., -0.60403695,\n",
      "         -0.5713209 , -0.52852751]],\n",
      "\n",
      "       [[ 4.72938669,  4.80777176,  4.64936339, ...,  1.40147547,\n",
      "          1.11753066,  0.96151495],\n",
      "        [ 5.88497202,  6.0810785 ,  6.0280416 , ...,  2.44291888,\n",
      "          2.12499899,  1.95265334],\n",
      "        [ 3.40329065,  3.71595169,  3.99833604, ...,  2.84672629,\n",
      "          2.72289229,  2.68494991],\n",
      "        ...,\n",
      "        [-0.43099158, -0.38252259, -0.35691385, ..., -0.35746573,\n",
      "         -0.34969792, -0.34864161],\n",
      "        [-0.43159976, -0.38281841, -0.35707999, ..., -0.3581769 ,\n",
      "         -0.35035191, -0.34938761],\n",
      "        [-0.43497499, -0.38574003, -0.35893711, ..., -0.36233518,\n",
      "         -0.35624928, -0.35524039]],\n",
      "\n",
      "       ...,\n",
      "\n",
      "       [[ 2.19450811,  2.184558  ,  2.48552323, ...,  4.08651631,\n",
      "          3.72028288,  3.77243927],\n",
      "        [ 3.29395385,  3.33414651,  3.72324611, ...,  5.87968457,\n",
      "          5.43382938,  5.38223655],\n",
      "        [ 3.08570123,  3.19393761,  3.41352754, ...,  4.54089105,\n",
      "          4.11640151,  3.93860986],\n",
      "        ...,\n",
      "        [-0.42301276, -0.42535212, -0.41492578, ..., -0.58150143,\n",
      "         -0.63715281, -0.62970006],\n",
      "        [-0.42199498, -0.42403528, -0.41447338, ..., -0.58293255,\n",
      "         -0.63842826, -0.63074979],\n",
      "        [-0.43212293, -0.43382854, -0.42438355, ..., -0.59481767,\n",
      "         -0.64533912, -0.63398381]],\n",
      "\n",
      "       [[ 3.70968485,  3.47589706,  3.71707545, ...,  4.673874  ,\n",
      "          4.39149288,  3.97293745],\n",
      "        [ 5.15277068,  4.80879966,  5.09756191, ...,  5.98397865,\n",
      "          5.72021632,  5.21720989],\n",
      "        [ 3.65044042,  3.38050922,  3.62548125, ...,  3.65181238,\n",
      "          3.5901251 ,  3.33642624],\n",
      "        ...,\n",
      "        [-0.62865134, -0.61579659, -0.58382981, ..., -0.42131181,\n",
      "         -0.42325877, -0.43894186],\n",
      "        [-0.62929455, -0.61620902, -0.58393661, ..., -0.42174341,\n",
      "         -0.42422113, -0.44007704],\n",
      "        [-0.63074441, -0.6180467 , -0.58602612, ..., -0.42419141,\n",
      "         -0.42625416, -0.44389776]],\n",
      "\n",
      "       [[ 3.54807936,  3.57156435,  3.65047539, ...,  0.95344714,\n",
      "          0.44142824,  0.04233694],\n",
      "        [ 4.62093431,  4.60340495,  4.67906471, ...,  2.40269453,\n",
      "          1.89900546,  1.37518462],\n",
      "        [ 2.91515041,  2.79851664,  2.78373099, ...,  3.02878362,\n",
      "          2.87962326,  2.56543112],\n",
      "        ...,\n",
      "        [-0.43694208, -0.42124748, -0.40653478, ..., -0.83965953,\n",
      "         -0.9002093 , -0.8638886 ],\n",
      "        [-0.43760536, -0.42175199, -0.40712495, ..., -0.83882712,\n",
      "         -0.90054139, -0.86663635],\n",
      "        [-0.44679978, -0.43935893, -0.43284787, ..., -0.84238997,\n",
      "         -0.90663853, -0.8748706 ]]])}, 'REM 2': {'CoG': array([[  23.,  100.],\n",
      "       [  49., -120.],\n",
      "       [  26.,  120.],\n",
      "       [  27., -160.],\n",
      "       [  37., -120.],\n",
      "       [  40.,  120.],\n",
      "       [  24.,   60.],\n",
      "       [  21.,  140.],\n",
      "       [  34., -160.],\n",
      "       [  21.,  100.],\n",
      "       [  50.,  -60.],\n",
      "       [  48., -160.],\n",
      "       [  50.,  -40.],\n",
      "       [  34., -120.],\n",
      "       [  30.,    0.],\n",
      "       [  48.,   40.],\n",
      "       [  28.,  160.],\n",
      "       [  32.,  -80.],\n",
      "       [  26., -160.],\n",
      "       [  39.,  100.],\n",
      "       [  47.,  -80.],\n",
      "       [  49.,  160.],\n",
      "       [  33.,  160.],\n",
      "       [  30.,   80.],\n",
      "       [  37.,   80.],\n",
      "       [  21., -100.],\n",
      "       [  21.,   80.],\n",
      "       [  36., -140.],\n",
      "       [  50.,  160.],\n",
      "       [  23., -120.],\n",
      "       [  38.,  160.],\n",
      "       [  37.,  140.],\n",
      "       [  22., -140.],\n",
      "       [  27.,    0.],\n",
      "       [  21.,   40.],\n",
      "       [  22., -120.],\n",
      "       [  31., -140.],\n",
      "       [  22.,  100.],\n",
      "       [  21.,  140.],\n",
      "       [  53.,  140.],\n",
      "       [  37.,   40.],\n",
      "       [  50., -160.],\n",
      "       [  22.,  160.],\n",
      "       [  50.,   80.],\n",
      "       [  33.,  -40.],\n",
      "       [  33.,  120.],\n",
      "       [  21.,  -60.],\n",
      "       [  22.,  -80.],\n",
      "       [  22.,  140.],\n",
      "       [  37.,  -60.],\n",
      "       [  32., -140.],\n",
      "       [  49., -160.],\n",
      "       [  38., -120.],\n",
      "       [  46.,  160.],\n",
      "       [  22.,  160.],\n",
      "       [  25.,   80.],\n",
      "       [  49.,  -60.],\n",
      "       [  39., -160.],\n",
      "       [  32.,   40.],\n",
      "       [  22.,  120.],\n",
      "       [  33., -160.],\n",
      "       [  50.,  120.],\n",
      "       [  50., -140.],\n",
      "       [  32., -140.],\n",
      "       [  22., -160.],\n",
      "       [  25.,  100.],\n",
      "       [  38.,   40.],\n",
      "       [  47., -140.],\n",
      "       [  50., -140.],\n",
      "       [  23.,  -80.],\n",
      "       [  49.,   60.],\n",
      "       [  21.,  -20.],\n",
      "       [  26., -100.],\n",
      "       [  23.,  140.],\n",
      "       [  49.,  -20.],\n",
      "       [  24.,   20.],\n",
      "       [  22.,  -80.],\n",
      "       [  31.,   80.],\n",
      "       [  29., -140.],\n",
      "       [  24.,  160.],\n",
      "       [  23.,  160.],\n",
      "       [  49.,  160.],\n",
      "       [  47.,  140.],\n",
      "       [  36.,  160.],\n",
      "       [  37., -140.],\n",
      "       [  29.,  100.],\n",
      "       [  48.,  -20.],\n",
      "       [  21., -120.],\n",
      "       [  21.,  160.],\n",
      "       [  35.,  100.],\n",
      "       [  35., -160.],\n",
      "       [  31., -100.],\n",
      "       [  45.,    0.],\n",
      "       [  38., -140.],\n",
      "       [  48.,  160.],\n",
      "       [  25.,  140.],\n",
      "       [  21.,  160.],\n",
      "       [  25.,  140.],\n",
      "       [  35.,  120.],\n",
      "       [  21., -160.],\n",
      "       [  38.,  140.],\n",
      "       [  21.,  -80.],\n",
      "       [  27., -120.],\n",
      "       [  39., -120.],\n",
      "       [  21.,   40.],\n",
      "       [  38., -120.],\n",
      "       [  37.,  160.],\n",
      "       [  21., -160.],\n",
      "       [  47.,  120.],\n",
      "       [  21.,  140.],\n",
      "       [  21., -120.],\n",
      "       [  38.,  -20.],\n",
      "       [  34., -140.],\n",
      "       [  40.,    0.],\n",
      "       [  27., -140.],\n",
      "       [  53.,  120.],\n",
      "       [  30.,  -80.],\n",
      "       [  38.,   80.],\n",
      "       [  33.,  120.],\n",
      "       [  25.,   60.],\n",
      "       [  32., -120.],\n",
      "       [  32., -120.],\n",
      "       [  26., -160.],\n",
      "       [  36., -140.],\n",
      "       [  37.,  120.],\n",
      "       [  21.,  160.],\n",
      "       [  25., -120.],\n",
      "       [  50., -100.],\n",
      "       [  35.,   20.],\n",
      "       [  21.,  -80.],\n",
      "       [  21., -160.],\n",
      "       [  30., -120.],\n",
      "       [  23., -140.],\n",
      "       [  36.,   40.],\n",
      "       [  49.,  -80.],\n",
      "       [  48., -120.],\n",
      "       [  29.,    0.],\n",
      "       [  50., -160.],\n",
      "       [  28.,  120.],\n",
      "       [  21., -160.],\n",
      "       [  33.,   20.],\n",
      "       [  21., -140.],\n",
      "       [  29., -140.],\n",
      "       [  28., -120.],\n",
      "       [  25.,  120.],\n",
      "       [  40.,  -80.],\n",
      "       [  43.,  160.],\n",
      "       [  29.,   60.],\n",
      "       [  37.,   80.],\n",
      "       [  31.,  140.],\n",
      "       [  33., -100.],\n",
      "       [  49.,  160.],\n",
      "       [  28.,   40.],\n",
      "       [  31.,  -40.],\n",
      "       [  22., -140.],\n",
      "       [  31., -160.],\n",
      "       [  39.,  140.],\n",
      "       [  31.,  160.],\n",
      "       [  48.,   40.],\n",
      "       [  34.,  120.],\n",
      "       [  29.,  140.],\n",
      "       [  22.,  -80.],\n",
      "       [  21.,  140.],\n",
      "       [  31.,  160.],\n",
      "       [  33.,  140.],\n",
      "       [  29.,  100.],\n",
      "       [  47., -120.],\n",
      "       [  21., -100.],\n",
      "       [  25.,   60.],\n",
      "       [  35., -140.],\n",
      "       [  49., -160.],\n",
      "       [  21., -100.],\n",
      "       [  30., -160.],\n",
      "       [  21.,  140.],\n",
      "       [  21.,   80.],\n",
      "       [  44., -140.],\n",
      "       [  24.,   60.],\n",
      "       [  21.,  120.],\n",
      "       [  31.,   80.],\n",
      "       [  28., -160.],\n",
      "       [  31., -100.],\n",
      "       [  52.,  160.],\n",
      "       [  49.,  140.],\n",
      "       [  25., -120.],\n",
      "       [  26., -160.],\n",
      "       [  26.,  140.],\n",
      "       [  26., -100.],\n",
      "       [  32., -140.],\n",
      "       [  29., -140.],\n",
      "       [  41.,  140.],\n",
      "       [  24., -120.],\n",
      "       [  21.,  160.],\n",
      "       [  36.,    0.],\n",
      "       [  37., -160.],\n",
      "       [  21., -160.],\n",
      "       [  23.,   80.],\n",
      "       [  36., -140.],\n",
      "       [  51.,  120.],\n",
      "       [  32., -140.],\n",
      "       [  21.,  160.],\n",
      "       [  38.,  100.],\n",
      "       [  21., -160.],\n",
      "       [  21.,  100.],\n",
      "       [  48.,  120.],\n",
      "       [  49.,  -80.],\n",
      "       [  22., -160.],\n",
      "       [  47.,  -40.],\n",
      "       [  21.,  160.],\n",
      "       [  48.,  140.],\n",
      "       [  36., -160.],\n",
      "       [  35.,  160.],\n",
      "       [  34.,  100.],\n",
      "       [  40.,   60.],\n",
      "       [  34.,  -60.],\n",
      "       [  21., -100.],\n",
      "       [  49.,  140.],\n",
      "       [  25., -140.],\n",
      "       [  49.,  120.],\n",
      "       [  26.,  140.],\n",
      "       [  49., -160.],\n",
      "       [  31., -140.],\n",
      "       [  26.,   80.],\n",
      "       [  39., -100.],\n",
      "       [  21.,  160.],\n",
      "       [  48., -160.],\n",
      "       [  25.,  160.],\n",
      "       [  48.,  100.],\n",
      "       [  21., -160.],\n",
      "       [  29.,    0.],\n",
      "       [  32.,   80.],\n",
      "       [  26.,  -60.],\n",
      "       [  23.,   80.],\n",
      "       [  23., -120.],\n",
      "       [  29.,  160.],\n",
      "       [  34.,  100.],\n",
      "       [  21., -120.],\n",
      "       [  47.,  -80.],\n",
      "       [  21., -160.],\n",
      "       [  21.,  -20.],\n",
      "       [  35., -160.],\n",
      "       [  29., -140.],\n",
      "       [  50.,  120.],\n",
      "       [  29.,  120.],\n",
      "       [  21.,  120.],\n",
      "       [  48.,  160.],\n",
      "       [  32.,  140.],\n",
      "       [  21., -120.],\n",
      "       [  27.,  120.],\n",
      "       [  22.,  160.],\n",
      "       [  35.,   40.],\n",
      "       [  21.,  120.],\n",
      "       [  35.,   60.],\n",
      "       [  29.,   40.],\n",
      "       [  35., -120.],\n",
      "       [  21.,  160.],\n",
      "       [  35.,  140.],\n",
      "       [  29.,  100.],\n",
      "       [  21.,  -80.],\n",
      "       [  22.,  120.],\n",
      "       [  50., -160.],\n",
      "       [  49., -160.],\n",
      "       [  30.,   20.],\n",
      "       [  50.,   60.],\n",
      "       [  49.,  -60.],\n",
      "       [  48.,  100.],\n",
      "       [  33.,  160.],\n",
      "       [  21.,  100.],\n",
      "       [  32.,  140.],\n",
      "       [  21., -160.],\n",
      "       [  29., -100.],\n",
      "       [  24.,  160.],\n",
      "       [  24., -140.],\n",
      "       [  24.,  100.],\n",
      "       [  47., -120.],\n",
      "       [  35., -140.],\n",
      "       [  23.,  140.],\n",
      "       [  24., -160.],\n",
      "       [  23., -140.],\n",
      "       [  24.,  120.],\n",
      "       [  33., -140.],\n",
      "       [  31., -160.],\n",
      "       [  21.,   40.],\n",
      "       [  31.,  160.],\n",
      "       [  28.,  140.],\n",
      "       [  21.,  120.],\n",
      "       [  21., -140.],\n",
      "       [  23.,  120.],\n",
      "       [  26.,  140.],\n",
      "       [  49.,  160.],\n",
      "       [  48., -140.],\n",
      "       [  36.,  -60.],\n",
      "       [  21.,  -80.],\n",
      "       [  22.,    0.],\n",
      "       [  49., -140.],\n",
      "       [  21.,  120.],\n",
      "       [  48., -160.],\n",
      "       [  35.,  -60.],\n",
      "       [  48.,  140.],\n",
      "       [  24., -120.],\n",
      "       [  23., -120.],\n",
      "       [  31.,  140.],\n",
      "       [  32.,  120.],\n",
      "       [  21.,  160.],\n",
      "       [  29.,   40.],\n",
      "       [  49., -160.],\n",
      "       [  31., -140.],\n",
      "       [  48., -160.],\n",
      "       [  28., -100.],\n",
      "       [  31.,   20.],\n",
      "       [  22.,  -20.],\n",
      "       [  33.,  120.],\n",
      "       [  28.,  -80.],\n",
      "       [  50.,  160.],\n",
      "       [  22., -100.],\n",
      "       [  29.,   60.],\n",
      "       [  47.,  100.],\n",
      "       [  23.,  140.],\n",
      "       [  48.,    0.],\n",
      "       [  28., -160.],\n",
      "       [  21.,   20.],\n",
      "       [  32.,  160.],\n",
      "       [  30.,  -80.],\n",
      "       [  21.,  140.],\n",
      "       [  34., -100.],\n",
      "       [  29.,  140.],\n",
      "       [  45.,  -20.],\n",
      "       [  25., -120.],\n",
      "       [  31., -160.],\n",
      "       [  21., -140.],\n",
      "       [  21.,  100.],\n",
      "       [  41., -160.],\n",
      "       [  40.,  120.],\n",
      "       [  31., -120.],\n",
      "       [  47., -120.],\n",
      "       [  49.,  -60.],\n",
      "       [  48.,  100.],\n",
      "       [  24.,  -40.],\n",
      "       [  30., -140.],\n",
      "       [  48., -120.],\n",
      "       [  21.,  100.],\n",
      "       [  49.,   20.],\n",
      "       [  47.,  -20.],\n",
      "       [  42.,  100.],\n",
      "       [  33.,  160.],\n",
      "       [  31.,  -80.],\n",
      "       [  29.,  140.],\n",
      "       [  49.,  160.],\n",
      "       [  27.,   60.],\n",
      "       [  31., -160.],\n",
      "       [  48.,  -40.],\n",
      "       [  28.,   60.],\n",
      "       [  48.,   60.],\n",
      "       [  48.,  100.],\n",
      "       [  21., -160.],\n",
      "       [  22.,  120.],\n",
      "       [  21.,   40.],\n",
      "       [  24.,  140.],\n",
      "       [  23., -120.],\n",
      "       [  41.,  -20.],\n",
      "       [  48., -120.],\n",
      "       [  30., -100.],\n",
      "       [  21., -140.],\n",
      "       [  28.,  -80.],\n",
      "       [  47.,  -80.],\n",
      "       [  39., -140.],\n",
      "       [  33., -140.],\n",
      "       [  48.,  140.],\n",
      "       [  21., -160.],\n",
      "       [  37.,  120.],\n",
      "       [  26., -120.],\n",
      "       [  27.,  160.],\n",
      "       [  25.,  -80.],\n",
      "       [  21.,  140.],\n",
      "       [  21., -160.],\n",
      "       [  22.,  -20.]]), 'FPP_cycles': array([[[ 5.55237838,  5.82414857,  5.32612522, ...,  1.97429659,\n",
      "          2.04099588,  1.95307278],\n",
      "        [ 6.02911898,  6.44356728,  6.20613235, ...,  3.56881013,\n",
      "          3.63085239,  3.48202456],\n",
      "        [ 1.92095706,  2.4859129 ,  3.03773513, ...,  4.14648392,\n",
      "          4.19463389,  4.07336722],\n",
      "        ...,\n",
      "        [-0.61288333, -0.51403221, -0.4992574 , ..., -0.38990726,\n",
      "         -0.38250753, -0.3891083 ],\n",
      "        [-0.6114603 , -0.51267159, -0.49783719, ..., -0.38984327,\n",
      "         -0.38247771, -0.38920914],\n",
      "        [-0.61398553, -0.51548849, -0.50102832, ..., -0.3902351 ,\n",
      "         -0.3829246 , -0.39009165]],\n",
      "\n",
      "       [[ 1.90608646,  1.93634242,  1.94826627, ...,  3.62697385,\n",
      "          3.47568696,  2.99688561],\n",
      "        [ 3.37824997,  3.37638557,  3.34268003, ...,  4.05135946,\n",
      "          3.75596236,  3.22622944],\n",
      "        [ 3.9119628 ,  3.79836385,  3.67719358, ...,  1.56572959,\n",
      "          1.20983929,  0.98967691],\n",
      "        ...,\n",
      "        [-0.39990367, -0.39497679, -0.40067296, ..., -0.54685346,\n",
      "         -0.57757624, -0.6448511 ],\n",
      "        [-0.40013894, -0.39527962, -0.40092554, ..., -0.54805432,\n",
      "         -0.57902239, -0.64539262],\n",
      "        [-0.40159698, -0.39723228, -0.40331245, ..., -0.56280219,\n",
      "         -0.59304912, -0.65736373]],\n",
      "\n",
      "       [[ 0.88005145,  0.92622252,  0.8150216 , ...,  2.45552128,\n",
      "          2.7561446 ,  2.85170573],\n",
      "        [ 2.91739516,  2.91373001,  2.68652945, ...,  3.56181327,\n",
      "          3.81698233,  3.78352729],\n",
      "        [ 4.82327215,  4.76662146,  4.50093358, ...,  2.89126504,\n",
      "          2.87878689,  2.61872684],\n",
      "        ...,\n",
      "        [-0.55471549, -0.53712802, -0.52743061, ..., -0.53283081,\n",
      "         -0.51720653, -0.49667812],\n",
      "        [-0.55574224, -0.53751571, -0.52726356, ..., -0.53357615,\n",
      "         -0.51750715, -0.49652914],\n",
      "        [-0.56486954, -0.54426439, -0.53198686, ..., -0.53498626,\n",
      "         -0.5183884 , -0.49724364]],\n",
      "\n",
      "       ...,\n",
      "\n",
      "       [[ 5.09864745,  5.10627892,  5.32987295, ...,  4.87126143,\n",
      "          4.7613209 ,  4.87372647],\n",
      "        [ 6.52330956,  6.29849882,  6.49496662, ...,  6.49142128,\n",
      "          6.39649079,  6.47193198],\n",
      "        [ 3.96760411,  3.45917857,  3.48524938, ...,  4.67352243,\n",
      "          4.65230018,  4.65194946],\n",
      "        ...,\n",
      "        [-0.4261837 , -0.45323855, -0.44794174, ..., -0.38328856,\n",
      "         -0.37556753, -0.37850949],\n",
      "        [-0.42511047, -0.45216745, -0.44721663, ..., -0.38372224,\n",
      "         -0.37640219, -0.37938141],\n",
      "        [-0.42912664, -0.45449179, -0.45012012, ..., -0.38649502,\n",
      "         -0.38326324, -0.38596954]],\n",
      "\n",
      "       [[ 5.12016503,  5.23199548,  5.17269332, ...,  4.07341632,\n",
      "          3.92055978,  3.8954689 ],\n",
      "        [ 6.72292665,  6.77434016,  6.58193567, ...,  5.83708313,\n",
      "          5.71731202,  5.70714022],\n",
      "        [ 4.68415742,  4.48075658,  4.08046173, ...,  4.85255746,\n",
      "          4.87287302,  4.90451771],\n",
      "        ...,\n",
      "        [-0.36945753, -0.38924527, -0.42099801, ..., -0.37891414,\n",
      "         -0.37569259, -0.37647119],\n",
      "        [-0.36999652, -0.38988528, -0.42141143, ..., -0.3788693 ,\n",
      "         -0.37595218, -0.37703845],\n",
      "        [-0.37377734, -0.39145119, -0.42256554, ..., -0.38082757,\n",
      "         -0.37825073, -0.37929512]],\n",
      "\n",
      "       [[ 3.35721636,  3.21013866,  3.01162471, ...,  1.39749714,\n",
      "          1.15206576,  1.01091584],\n",
      "        [ 5.31480552,  5.1672219 ,  4.99488706, ...,  2.80053489,\n",
      "          2.4156159 ,  2.18930893],\n",
      "        [ 5.24092529,  5.19403882,  5.23843157, ...,  3.57734268,\n",
      "          3.17389804,  2.94636953],\n",
      "        ...,\n",
      "        [-0.40117242, -0.41028899, -0.39543624, ..., -0.4898159 ,\n",
      "         -0.48304139, -0.45641811],\n",
      "        [-0.40133391, -0.41056529, -0.39559673, ..., -0.48993886,\n",
      "         -0.48320885, -0.45658058],\n",
      "        [-0.40176872, -0.41143948, -0.39720527, ..., -0.49064661,\n",
      "         -0.48408891, -0.45709335]]])}, 'header_info': {'condition': 'OR', 'rat': 5, 'study_day': 1, 'treatment': 'CBD', 'trial': 'posttrial3'}}\n"
     ]
    }
   ],
   "source": [
    "print(rem_dict)"
   ],
   "metadata": {
    "collapsed": false,
    "ExecuteTime": {
     "end_time": "2023-09-08T21:26:01.524166800Z",
     "start_time": "2023-09-08T21:26:01.101990200Z"
    }
   }
  },
  {
   "cell_type": "code",
   "execution_count": 9,
   "outputs": [
    {
     "name": "stdout",
     "output_type": "stream",
     "text": [
      "REM 1\n",
      "True\n",
      "(81, 120, 19)\n",
      "(81, 120)\n",
      "REM 2\n",
      "True\n",
      "(375, 120, 19)\n",
      "(375, 120)\n",
      "header_info\n"
     ]
    }
   ],
   "source": [
    "sub_dict = {}\n",
    "for key, value in rem_dict.items():\n",
    "        print(key)\n",
    "        if 'FPP_cycles' in value.keys():\n",
    "            print(rem_dict[key]['FPP_cycles'].mean(axis=2).shape)\n",
    "            spec_sig=rem_dict[key]['FPP_cycles'].mean(axis=2)\n",
    "            sub_dict[key]['spectral_signatures']=spec_sig"
   ],
   "metadata": {
    "collapsed": false,
    "ExecuteTime": {
     "end_time": "2023-09-08T22:55:47.391179200Z",
     "start_time": "2023-09-08T22:55:47.075946400Z"
    }
   }
  }
 ],
 "metadata": {
  "kernelspec": {
   "display_name": "Python 3",
   "language": "python",
   "name": "python3"
  },
  "language_info": {
   "codemirror_mode": {
    "name": "ipython",
    "version": 2
   },
   "file_extension": ".py",
   "mimetype": "text/x-python",
   "name": "python",
   "nbconvert_exporter": "python",
   "pygments_lexer": "ipython2",
   "version": "2.7.6"
  }
 },
 "nbformat": 4,
 "nbformat_minor": 0
}
